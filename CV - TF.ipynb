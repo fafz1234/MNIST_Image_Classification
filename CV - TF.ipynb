{
 "cells": [
  {
   "cell_type": "code",
   "execution_count": 10,
   "metadata": {
    "collapsed": true
   },
   "outputs": [],
   "source": [
    "# imports\n",
    "%matplotlib inline\n",
    "from IPython.display import Image\n",
    "import matplotlib.pyplot as plt\n",
    "import numpy as np\n",
    "from sklearn.metrics import confusion_matrix\n",
    "import time\n",
    "from datetime import timedelta\n",
    "import math\n",
    "import tensorflow as tf"
   ]
  },
  {
   "cell_type": "code",
   "execution_count": 11,
   "metadata": {
    "collapsed": true
   },
   "outputs": [],
   "source": [
    "# architecture of CNN\n",
    "# Convolutional Layer 1.\n",
    "filter_size1 = 5          # Convolution filters are 5 x 5 pixels.\n",
    "num_filters1 = 16         # there are 16 filters\n",
    "\n",
    "# Convolutional Layer 2.\n",
    "filter_size2 = 5          # Convolution filters are 5 x 5 pixels.\n",
    "num_filters2 = 36         # there are 36 filters\n",
    "\n",
    "# Fully-connected layer.\n",
    "fc_size = 128             # Number of neurons in fully-connected layer."
   ]
  },
  {
   "cell_type": "code",
   "execution_count": 12,
   "metadata": {},
   "outputs": [
    {
     "name": "stdout",
     "output_type": "stream",
     "text": [
      "Successfully downloaded train-images-idx3-ubyte.gz 9912422 bytes.\n",
      "Extracting data/MNIST/train-images-idx3-ubyte.gz\n",
      "Successfully downloaded train-labels-idx1-ubyte.gz 28881 bytes.\n",
      "Extracting data/MNIST/train-labels-idx1-ubyte.gz\n",
      "Successfully downloaded t10k-images-idx3-ubyte.gz 1648877 bytes.\n",
      "Extracting data/MNIST/t10k-images-idx3-ubyte.gz\n",
      "Successfully downloaded t10k-labels-idx1-ubyte.gz 4542 bytes.\n",
      "Extracting data/MNIST/t10k-labels-idx1-ubyte.gz\n"
     ]
    }
   ],
   "source": [
    "from tensorflow.examples.tutorials.mnist import input_data\n",
    "data = input_data.read_data_sets('data/MNIST', one_hot = True)"
   ]
  },
  {
   "cell_type": "code",
   "execution_count": 13,
   "metadata": {},
   "outputs": [
    {
     "name": "stdout",
     "output_type": "stream",
     "text": [
      "training-set:\t55000\n",
      "testset:\t10000\n",
      "validationset:\t5000\n"
     ]
    }
   ],
   "source": [
    "# split data into train, test and validation \n",
    "print(\"training-set:\\t{}\".format(len(data.train.labels)))  \n",
    "print(\"testset:\\t{}\".format(len(data.test.labels)))\n",
    "print(\"validationset:\\t{}\".format(len(data.validation.labels)))"
   ]
  },
  {
   "cell_type": "code",
   "execution_count": 14,
   "metadata": {
    "collapsed": true
   },
   "outputs": [],
   "source": [
    "# getting the integer values of the class labels\n",
    "data.test.cls = np.argmax(data.test.labels, axis = 1)"
   ]
  },
  {
   "cell_type": "code",
   "execution_count": 15,
   "metadata": {
    "collapsed": true
   },
   "outputs": [],
   "source": [
    "img_size = 28 # image size of MNIST\n",
    "\n",
    "img_size_flat = img_size * img_size # store images in an array \n",
    "\n",
    "img_shape = (img_size, img_size)\n",
    "\n",
    "num_channels = 1 # only 1 color channel (gray scale)\n",
    "\n",
    "num_classes = 10 # number of classes "
   ]
  },
  {
   "cell_type": "code",
   "execution_count": 16,
   "metadata": {
    "collapsed": true
   },
   "outputs": [],
   "source": [
    "# helper plotting function \n",
    "def plot_images(images, cls_true, cls_pred = None):\n",
    "#     assert len(images) == len(cls_true) == 9\n",
    "    fig, axes = plt.subplots(3,3)\n",
    "    fig.subplots_adjust(hspace = 0.3, wspace = 0.3)\n",
    "    \n",
    "    for i, ax in enumerate(axes.flat):\n",
    "        ax.imshow(images[i].reshape(img_shape), cmap = 'binary')\n",
    "        if cls_pred is None:\n",
    "            xlabel = \"True: {0}\".format(cls_true[i])\n",
    "        else:\n",
    "            xlabel = \"True: {0}, Pred: {1}\".format(cls_true[i], cls_pred[i])\n",
    "        ax.set_xlabel(xlabel)        \n",
    "        ax.set_xticks([])\n",
    "        ax.set_yticks([])\n",
    "    plt.show()"
   ]
  },
  {
   "cell_type": "code",
   "execution_count": 17,
   "metadata": {
    "collapsed": true
   },
   "outputs": [],
   "source": [
    "# helper funciton for weight initialization \n",
    "def new_weights(shape):\n",
    "    return tf. Variable(tf.truncated_normal(shape, stddev = 0.05))\n",
    "def new_biases(length):\n",
    "    return tf.Variable(tf.constant(0.05, shape = [length]))"
   ]
  },
  {
   "cell_type": "code",
   "execution_count": 18,
   "metadata": {
    "collapsed": true
   },
   "outputs": [],
   "source": [
    "# creating convolutional layer \n",
    "def new_conv_layer(input, num_input_channels, filter_size, num_filters, use_pooling=True):  \n",
    "\n",
    "    shape = [filter_size, filter_size, num_input_channels, num_filters]\n",
    "\n",
    "    # create weights/filters \n",
    "    weights = new_weights(shape=shape)\n",
    "\n",
    "    # bias for each filter \n",
    "    biases = new_biases(length=num_filters)\n",
    "    layer = tf.nn.conv2d(input = input, filter = weights, strides = [1,1,1,1], padding = 'SAME')\n",
    "\n",
    "    layer += biases # adding bias to the result of each convolution \n",
    "\n",
    "    # pooling to downsample resolution \n",
    "    if use_pooling:\n",
    "        layer = tf.nn.max_pool(value = layer, ksize = [1,2,2,1], strides = [1,2,2,1], padding = 'SAME')\n",
    "    layer = tf.nn.relu(layer)\n",
    "    return layer, weights"
   ]
  },
  {
   "cell_type": "code",
   "execution_count": 19,
   "metadata": {
    "collapsed": true
   },
   "outputs": [],
   "source": [
    "# flattening convolution outputs \n",
    "def flatten_layer(layer):\n",
    "    layer_shape = layer.get_shape() # obtain the shape of the input layer \n",
    "    num_features = layer_shape[1:4].num_elements()\n",
    "    layer_flat = tf.reshape(layer, [-1, num_features])\n",
    "    return layer_flat, num_features"
   ]
  },
  {
   "cell_type": "code",
   "execution_count": 20,
   "metadata": {
    "collapsed": true
   },
   "outputs": [],
   "source": [
    "# creating new fully-connected layer \n",
    "def new_fc_layer(input, num_inputs, num_outputs, use_relu=True): \n",
    "    # biases and weights \n",
    "    weights = new_weights(shape=[num_inputs, num_outputs])\n",
    "    biases = new_biases(length=num_outputs)\n",
    "    layer = tf.matmul(input, weights) + biases\n",
    "    # using RELU to introduce non-linearity \n",
    "    if use_relu:\n",
    "        layer = tf.nn.relu(layer)\n",
    "    return layer"
   ]
  },
  {
   "cell_type": "code",
   "execution_count": 21,
   "metadata": {
    "collapsed": true
   },
   "outputs": [],
   "source": [
    "# create a placeholder fot to hold the input images \n",
    "x = tf.placeholder(tf.float32, shape = [None, img_size_flat], name = 'x')\n",
    "x_image = tf.reshape(x, [-1, img_size, img_size, num_channels])\n",
    "y_true = tf.placeholder(tf.float32, shape=[None, num_classes], name='y_true')\n",
    "y_true_cls = tf.argmax(y_true, dimension=1)"
   ]
  },
  {
   "cell_type": "code",
   "execution_count": 22,
   "metadata": {
    "collapsed": true
   },
   "outputs": [],
   "source": [
    "# the first convolutinal layer \n",
    "layer_conv1, weights_conv1 = \\\n",
    "    new_conv_layer(input=x_image, num_input_channels=num_channels, filter_size=filter_size1,\n",
    "                   num_filters=num_filters1, use_pooling=True)"
   ]
  },
  {
   "cell_type": "code",
   "execution_count": 23,
   "metadata": {
    "collapsed": true
   },
   "outputs": [],
   "source": [
    "layer_conv2, weights_conv2 = \\\n",
    "    new_conv_layer(input=layer_conv1, num_input_channels=num_filters1, filter_size=filter_size2,\n",
    "                   num_filters=num_filters2, use_pooling=True)"
   ]
  },
  {
   "cell_type": "code",
   "execution_count": 24,
   "metadata": {
    "collapsed": true
   },
   "outputs": [],
   "source": [
    "layer_flat, num_features = flatten_layer(layer_conv2)"
   ]
  },
  {
   "cell_type": "code",
   "execution_count": 25,
   "metadata": {
    "collapsed": true
   },
   "outputs": [],
   "source": [
    "# first FC layer\n",
    "layer_fc1 = new_fc_layer(input=layer_flat, num_inputs=num_features, num_outputs=fc_size, use_relu=True)"
   ]
  },
  {
   "cell_type": "code",
   "execution_count": 26,
   "metadata": {
    "collapsed": true
   },
   "outputs": [],
   "source": [
    "# second FC layer\n",
    "layer_fc2 = new_fc_layer(input=layer_fc1, num_inputs=fc_size, num_outputs=num_classes, use_relu=False)"
   ]
  },
  {
   "cell_type": "code",
   "execution_count": 27,
   "metadata": {
    "collapsed": true
   },
   "outputs": [],
   "source": [
    "y_pred = tf.nn.softmax(layer_fc2)\n",
    "y_pred_cls = tf.argmax(y_pred, axis = 1)\n",
    "cross_entropy = tf.nn.softmax_cross_entropy_with_logits(logits=layer_fc2, labels=y_true)\n",
    "cost = tf.reduce_mean(cross_entropy) # taking an average of the cross entropy for all images\n",
    "optimizer = tf.train.AdamOptimizer(learning_rate = 1e-4).minimize(cost) # using the AdamOptimizer\n",
    "correct_prediction = tf.equal(y_pred_cls, y_true_cls) # measure preduction accuracy \n",
    "accuracy = tf.reduce_mean(tf.cast(correct_prediction, tf.float32))  # obtain the accuracy \n"
   ]
  },
  {
   "cell_type": "code",
   "execution_count": 28,
   "metadata": {
    "collapsed": true
   },
   "outputs": [],
   "source": [
    "# create a TF session\n",
    "session = tf.Session()\n",
    "# initialize varibales \n",
    "session.run(tf.global_variables_initializer())\n",
    "train_batch_size = 64 # set batch size"
   ]
  },
  {
   "cell_type": "code",
   "execution_count": 29,
   "metadata": {
    "collapsed": true
   },
   "outputs": [],
   "source": [
    "# helper function to perform optimization iteration \n",
    "total_iterations = 0 # count the number of iterations\n",
    "def optimize(num_iterations):\n",
    "    global total_iterations\n",
    "\n",
    "    start_time = time.time()  # time the optimization \n",
    "\n",
    "    for i in range(total_iterations,\n",
    "                   total_iterations + num_iterations):\n",
    "\n",
    "        x_batch, y_true_batch = data.train.next_batch(train_batch_size)\n",
    "        feed_dict_train = {x: x_batch, y_true: y_true_batch}\n",
    "\n",
    "        session.run(optimizer, feed_dict=feed_dict_train)\n",
    "\n",
    "        if i % 100 == 0: # every 100 iterations, print the status of the performance\n",
    "            acc = session.run(accuracy, feed_dict=feed_dict_train) # training set accuracy \n",
    "            msg = \"Optimization Pass: {0:>6}, Training Accuracy: {1:>6.1%}\"\n",
    "            print(msg.format(i + 1, acc))\n",
    "\n",
    "    total_iterations += num_iterations\n",
    "    end_time = time.time() # ending time\n",
    "    time_dif = end_time - start_time\n",
    "    print(\"Time usage: \" + str(timedelta(seconds=int(round(time_dif)))))"
   ]
  },
  {
   "cell_type": "code",
   "execution_count": 30,
   "metadata": {
    "collapsed": true
   },
   "outputs": [],
   "source": [
    "# ploting some examples that were misclassified \n",
    "def plot_example_errors(cls_pred, correct):\n",
    "    incorrect = (correct == False)\n",
    "\n",
    "    images = data.test.images[incorrect] # misclassified images    \n",
    "    cls_pred = cls_pred[incorrect] # obtain predictions\n",
    "    cls_true = data.test.cls[incorrect] # true classes \n",
    "    \n",
    "    # plot a few images\n",
    "    plot_images(images=images[0:9], cls_true=cls_true[0:9], cls_pred=cls_pred[0:9])"
   ]
  },
  {
   "cell_type": "code",
   "execution_count": 31,
   "metadata": {
    "collapsed": true
   },
   "outputs": [],
   "source": [
    "def plot_confusion_matrix(cls_pred):\n",
    "    cls_true = data.test.cls\n",
    "\n",
    "    cm = confusion_matrix(y_true=cls_true, y_pred=cls_pred) # obtain confusion matrix using sklearn\n",
    "\n",
    "    # Print the confusion matrix as text.\n",
    "    print(cm)"
   ]
  },
  {
   "cell_type": "code",
   "execution_count": 32,
   "metadata": {
    "collapsed": true
   },
   "outputs": [],
   "source": [
    "test_batch_size = 256\n",
    "def print_test_accuracy(show_example_errors=False, show_confusion_matrix=False):\n",
    "\n",
    "    num_test = len(data.test.images)\n",
    "    cls_pred = np.zeros(shape=num_test, dtype=np.int)\n",
    "    i = 0\n",
    "\n",
    "    while i < num_test:\n",
    "        j = min(i + test_batch_size, num_test) # last index of the next batch\n",
    "\n",
    "        images = data.test.images[i:j, :] # images between i and j\n",
    "\n",
    "        labels = data.test.labels[i:j, :] # get labels\n",
    "\n",
    "        feed_dict = {x: images, y_true: labels}\n",
    "\n",
    "        cls_pred[i:j] = session.run(y_pred_cls, feed_dict=feed_dict) # obtain the predicted class\n",
    "\n",
    "        i = j\n",
    "\n",
    "    cls_true = data.test.cls # true class numbers\n",
    "\n",
    "    correct = (cls_true == cls_pred)\n",
    "    correct_sum = correct.sum() # number of correctly classified images \n",
    "\n",
    "    acc = float(correct_sum) / num_test # testset accuracy\n",
    "\n",
    "    msg = \"Accuracy on testet: {0:.1%} ({1} / {2})\"\n",
    "    print(msg.format(acc, correct_sum, num_test))\n",
    "\n",
    "    # Plot some examples of mis-classifications, if desired.\n",
    "    if show_example_errors:\n",
    "        print(\"misclassified images:\")\n",
    "        plot_example_errors(cls_pred=cls_pred, correct=correct)\n",
    "\n",
    "    # Plot the confusion matrix, if desired.\n",
    "    if show_confusion_matrix:\n",
    "        print(\"confusion matrix:\")\n",
    "        plot_confusion_matrix(cls_pred=cls_pred)"
   ]
  },
  {
   "cell_type": "code",
   "execution_count": 33,
   "metadata": {},
   "outputs": [
    {
     "name": "stdout",
     "output_type": "stream",
     "text": [
      "Optimization Pass:      1, Training Accuracy:   9.4%\n",
      "Optimization Pass:    101, Training Accuracy:  67.2%\n",
      "Optimization Pass:    201, Training Accuracy:  90.6%\n",
      "Optimization Pass:    301, Training Accuracy:  81.2%\n",
      "Optimization Pass:    401, Training Accuracy:  87.5%\n",
      "Optimization Pass:    501, Training Accuracy:  90.6%\n",
      "Optimization Pass:    601, Training Accuracy:  89.1%\n",
      "Optimization Pass:    701, Training Accuracy:  92.2%\n",
      "Optimization Pass:    801, Training Accuracy:  98.4%\n",
      "Optimization Pass:    901, Training Accuracy:  90.6%\n",
      "Time usage: 0:01:27\n"
     ]
    }
   ],
   "source": [
    "# performance after 1000 optimization iterations\n",
    "optimize(num_iterations=1000) # We performed 100 iterations above."
   ]
  },
  {
   "cell_type": "code",
   "execution_count": 34,
   "metadata": {},
   "outputs": [
    {
     "name": "stdout",
     "output_type": "stream",
     "text": [
      "Accuracy on testet: 93.0% (9305 / 10000)\n",
      "misclassified images:\n"
     ]
    },
    {
     "data": {
      "image/png": "[encoded data removed]",
      "text/plain": [
       "<matplotlib.figure.Figure at 0x116b23890>"
      ]
     },
     "metadata": {},
     "output_type": "display_data"
    }
   ],
   "source": [
    "print_test_accuracy(show_example_errors=True)"
   ]
  },
  {
   "cell_type": "code",
   "execution_count": 35,
   "metadata": {},
   "outputs": [
    {
     "name": "stdout",
     "output_type": "stream",
     "text": [
      "Optimization Pass:   1001, Training Accuracy:  87.5%\n",
      "Optimization Pass:   1101, Training Accuracy:  98.4%\n",
      "Optimization Pass:   1201, Training Accuracy:  87.5%\n",
      "Optimization Pass:   1301, Training Accuracy:  90.6%\n",
      "Optimization Pass:   1401, Training Accuracy:  92.2%\n",
      "Optimization Pass:   1501, Training Accuracy:  93.8%\n",
      "Optimization Pass:   1601, Training Accuracy:  90.6%\n",
      "Optimization Pass:   1701, Training Accuracy:  96.9%\n",
      "Optimization Pass:   1801, Training Accuracy:  95.3%\n",
      "Optimization Pass:   1901, Training Accuracy:  96.9%\n",
      "Optimization Pass:   2001, Training Accuracy:  96.9%\n",
      "Optimization Pass:   2101, Training Accuracy:  95.3%\n",
      "Optimization Pass:   2201, Training Accuracy:  98.4%\n",
      "Optimization Pass:   2301, Training Accuracy:  93.8%\n",
      "Optimization Pass:   2401, Training Accuracy:  90.6%\n",
      "Optimization Pass:   2501, Training Accuracy: 100.0%\n",
      "Optimization Pass:   2601, Training Accuracy:  96.9%\n",
      "Optimization Pass:   2701, Training Accuracy:  98.4%\n",
      "Optimization Pass:   2801, Training Accuracy: 100.0%\n",
      "Optimization Pass:   2901, Training Accuracy:  96.9%\n",
      "Optimization Pass:   3001, Training Accuracy:  93.8%\n",
      "Optimization Pass:   3101, Training Accuracy:  92.2%\n",
      "Optimization Pass:   3201, Training Accuracy:  98.4%\n",
      "Optimization Pass:   3301, Training Accuracy:  98.4%\n",
      "Optimization Pass:   3401, Training Accuracy: 100.0%\n",
      "Optimization Pass:   3501, Training Accuracy:  96.9%\n",
      "Optimization Pass:   3601, Training Accuracy:  96.9%\n",
      "Optimization Pass:   3701, Training Accuracy:  98.4%\n",
      "Optimization Pass:   3801, Training Accuracy:  93.8%\n",
      "Optimization Pass:   3901, Training Accuracy: 100.0%\n",
      "Optimization Pass:   4001, Training Accuracy:  98.4%\n",
      "Optimization Pass:   4101, Training Accuracy:  96.9%\n",
      "Optimization Pass:   4201, Training Accuracy:  98.4%\n",
      "Optimization Pass:   4301, Training Accuracy: 100.0%\n",
      "Optimization Pass:   4401, Training Accuracy:  98.4%\n",
      "Optimization Pass:   4501, Training Accuracy: 100.0%\n",
      "Optimization Pass:   4601, Training Accuracy:  96.9%\n",
      "Optimization Pass:   4701, Training Accuracy:  92.2%\n",
      "Optimization Pass:   4801, Training Accuracy:  98.4%\n",
      "Optimization Pass:   4901, Training Accuracy:  98.4%\n",
      "Optimization Pass:   5001, Training Accuracy: 100.0%\n",
      "Optimization Pass:   5101, Training Accuracy:  98.4%\n",
      "Optimization Pass:   5201, Training Accuracy:  98.4%\n",
      "Optimization Pass:   5301, Training Accuracy:  96.9%\n",
      "Optimization Pass:   5401, Training Accuracy:  96.9%\n",
      "Optimization Pass:   5501, Training Accuracy: 100.0%\n",
      "Optimization Pass:   5601, Training Accuracy:  96.9%\n",
      "Optimization Pass:   5701, Training Accuracy:  98.4%\n",
      "Optimization Pass:   5801, Training Accuracy: 100.0%\n",
      "Optimization Pass:   5901, Training Accuracy: 100.0%\n",
      "Optimization Pass:   6001, Training Accuracy:  98.4%\n",
      "Optimization Pass:   6101, Training Accuracy:  98.4%\n",
      "Optimization Pass:   6201, Training Accuracy: 100.0%\n",
      "Optimization Pass:   6301, Training Accuracy: 100.0%\n",
      "Optimization Pass:   6401, Training Accuracy: 100.0%\n",
      "Optimization Pass:   6501, Training Accuracy:  98.4%\n",
      "Optimization Pass:   6601, Training Accuracy:  98.4%\n",
      "Optimization Pass:   6701, Training Accuracy: 100.0%\n",
      "Optimization Pass:   6801, Training Accuracy: 100.0%\n",
      "Optimization Pass:   6901, Training Accuracy:  98.4%\n",
      "Optimization Pass:   7001, Training Accuracy: 100.0%\n",
      "Optimization Pass:   7101, Training Accuracy: 100.0%\n",
      "Optimization Pass:   7201, Training Accuracy:  98.4%\n",
      "Optimization Pass:   7301, Training Accuracy: 100.0%\n",
      "Optimization Pass:   7401, Training Accuracy: 100.0%\n",
      "Optimization Pass:   7501, Training Accuracy: 100.0%\n",
      "Optimization Pass:   7601, Training Accuracy:  98.4%\n",
      "Optimization Pass:   7701, Training Accuracy: 100.0%\n",
      "Optimization Pass:   7801, Training Accuracy: 100.0%\n",
      "Optimization Pass:   7901, Training Accuracy:  98.4%\n",
      "Optimization Pass:   8001, Training Accuracy:  96.9%\n",
      "Optimization Pass:   8101, Training Accuracy: 100.0%\n",
      "Optimization Pass:   8201, Training Accuracy:  98.4%\n",
      "Optimization Pass:   8301, Training Accuracy:  98.4%\n",
      "Optimization Pass:   8401, Training Accuracy: 100.0%\n",
      "Optimization Pass:   8501, Training Accuracy:  98.4%\n",
      "Optimization Pass:   8601, Training Accuracy: 100.0%\n",
      "Optimization Pass:   8701, Training Accuracy:  96.9%\n",
      "Optimization Pass:   8801, Training Accuracy:  96.9%\n",
      "Optimization Pass:   8901, Training Accuracy: 100.0%\n",
      "Optimization Pass:   9001, Training Accuracy: 100.0%\n",
      "Optimization Pass:   9101, Training Accuracy:  98.4%\n",
      "Optimization Pass:   9201, Training Accuracy:  98.4%\n",
      "Optimization Pass:   9301, Training Accuracy:  98.4%\n",
      "Optimization Pass:   9401, Training Accuracy:  96.9%\n",
      "Optimization Pass:   9501, Training Accuracy: 100.0%\n",
      "Optimization Pass:   9601, Training Accuracy: 100.0%\n",
      "Optimization Pass:   9701, Training Accuracy: 100.0%\n",
      "Optimization Pass:   9801, Training Accuracy: 100.0%\n",
      "Optimization Pass:   9901, Training Accuracy: 100.0%\n",
      "Time usage: 0:14:54\n"
     ]
    }
   ],
   "source": [
    "# perfrmance after 10000 optimization iterations\n",
    "optimize(num_iterations=9000) # already perfromed 1000 iterations above"
   ]
  },
  {
   "cell_type": "code",
   "execution_count": 36,
   "metadata": {},
   "outputs": [
    {
     "name": "stdout",
     "output_type": "stream",
     "text": [
      "Accuracy on testet: 98.6% (9856 / 10000)\n",
      "misclassified images:\n"
     ]
    },
    {
     "data": {
      "image/png": "[encoded data removed]",
      "text/plain": [
       "<matplotlib.figure.Figure at 0x1076d8bd0>"
      ]
     },
     "metadata": {},
     "output_type": "display_data"
    },
    {
     "name": "stdout",
     "output_type": "stream",
     "text": [
      "confusion matrix:\n",
      "[[ 974    0    1    0    0    0    2    0    2    1]\n",
      " [   0 1126    2    0    0    0    2    1    4    0]\n",
      " [   4    1 1014    3    1    0    0    3    6    0]\n",
      " [   0    0    1 1005    0    1    0    0    3    0]\n",
      " [   1    0    2    0  968    0    1    0    2    8]\n",
      " [   2    0    1   10    0  871    3    1    3    1]\n",
      " [   6    2    0    1    1    1  946    0    1    0]\n",
      " [   1    4    7    3    0    0    0 1006    4    3]\n",
      " [   4    0    1    3    1    1    0    1  960    3]\n",
      " [   3    4    0    5    5    1    1    1    3  986]]\n"
     ]
    }
   ],
   "source": [
    "print_test_accuracy(show_example_errors=True, show_confusion_matrix=True)"
   ]
  },
  {
   "cell_type": "code",
   "execution_count": 37,
   "metadata": {
    "collapsed": true
   },
   "outputs": [],
   "source": [
    "session.close()"
   ]
  }
 ],
 "metadata": {
  "kernelspec": {
   "display_name": "Python 2",
   "language": "python",
   "name": "python2"
  },
  "language_info": {
   "codemirror_mode": {
    "name": "ipython",
    "version": 2
   },
   "file_extension": ".py",
   "mimetype": "text/x-python",
   "name": "python",
   "nbconvert_exporter": "python",
   "pygments_lexer": "ipython2",
   "version": "2.7.14"
  }
 },
 "nbformat": 4,
 "nbformat_minor": 2
}
